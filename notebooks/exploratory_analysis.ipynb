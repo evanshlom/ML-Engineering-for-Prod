{
 "cells": [
  {
   "cell_type": "code",
   "execution_count": null,
   "id": "6daa9c57",
   "metadata": {
    "vscode": {
     "languageId": "plaintext"
    }
   },
   "outputs": [],
   "source": [
    "# NICU Data Exploratory Analysis\n",
    "# Notebook for exploring NICU kangaroo care data patterns\n",
    "\n",
    "import pandas as pd\n",
    "import numpy as np\n",
    "import matplotlib.pyplot as plt\n",
    "import seaborn as sns\n",
    "from pathlib import Path\n",
    "import sys\n",
    "sys.path.append('..')\n",
    "\n",
    "from src.data.generator import generate_nicu_data\n",
    "\n",
    "# Set style\n",
    "plt.style.use('seaborn-v0_8')\n",
    "sns.set_palette(\"husl\")"
   ]
  },
  {
   "cell_type": "code",
   "execution_count": null,
   "id": "cf424d1f",
   "metadata": {
    "vscode": {
     "languageId": "plaintext"
    }
   },
   "outputs": [],
   "source": [
    "# Generate or load data\n",
    "data_path = Path('../data/processed')\n",
    "\n",
    "if (data_path / 'train.csv').exists():\n",
    "   train_df = pd.read_csv(data_path / 'train.csv')\n",
    "   val_df = pd.read_csv(data_path / 'val.csv')\n",
    "   test_df = pd.read_csv(data_path / 'test.csv')\n",
    "   print(\"Loaded existing data\")\n",
    "else:\n",
    "   print(\"Generating new data...\")\n",
    "   train_df, val_df, test_df = generate_nicu_data(n_samples=2000)\n",
    "   \n",
    "print(f\"Train: {len(train_df)} samples\")\n",
    "print(f\"Val: {len(val_df)} samples\")\n",
    "print(f\"Test: {len(test_df)} samples\")"
   ]
  },
  {
   "cell_type": "code",
   "execution_count": null,
   "id": "0f034527",
   "metadata": {
    "vscode": {
     "languageId": "plaintext"
    }
   },
   "outputs": [],
   "source": [
    "# Basic statistics\n",
    "train_df.describe()"
   ]
  },
  {
   "cell_type": "code",
   "execution_count": null,
   "id": "3511fde3",
   "metadata": {
    "vscode": {
     "languageId": "plaintext"
    }
   },
   "outputs": [],
   "source": [
    "# Class distribution\n",
    "fig, (ax1, ax2) = plt.subplots(1, 2, figsize=(12, 4))\n",
    "\n",
    "# Pie chart\n",
    "train_df['suitable_for_kangaroo_care'].value_counts().plot.pie(\n",
    "   autopct='%1.1f%%', \n",
    "   labels=['Not Suitable', 'Suitable'],\n",
    "   ax=ax1\n",
    ")\n",
    "ax1.set_title('Class Distribution')\n",
    "\n",
    "# Bar chart\n",
    "pd.concat([\n",
    "   train_df['suitable_for_kangaroo_care'].value_counts().rename('Train'),\n",
    "   val_df['suitable_for_kangaroo_care'].value_counts().rename('Val'),\n",
    "   test_df['suitable_for_kangaroo_care'].value_counts().rename('Test')\n",
    "], axis=1).plot.bar(ax=ax2)\n",
    "ax2.set_title('Class Distribution by Dataset')\n",
    "ax2.set_xticklabels(['Not Suitable', 'Suitable'], rotation=0)\n",
    "\n",
    "plt.tight_layout()\n",
    "plt.show()"
   ]
  },
  {
   "cell_type": "code",
   "execution_count": null,
   "id": "1410c0fa",
   "metadata": {
    "vscode": {
     "languageId": "plaintext"
    }
   },
   "outputs": [],
   "source": [
    "# Feature distributions\n",
    "feature_cols = ['heart_rate', 'oxygen_saturation', 'respiratory_rate', 'weight_grams', 'temperature_celsius']\n",
    "\n",
    "fig, axes = plt.subplots(2, 3, figsize=(15, 10))\n",
    "axes = axes.ravel()\n",
    "\n",
    "for i, col in enumerate(feature_cols):\n",
    "   train_df[col].hist(bins=50, ax=axes[i], alpha=0.7)\n",
    "   axes[i].set_title(f'Distribution of {col}')\n",
    "   axes[i].set_xlabel(col)\n",
    "   axes[i].set_ylabel('Frequency')\n",
    "\n",
    "plt.tight_layout()\n",
    "plt.show()"
   ]
  },
  {
   "cell_type": "code",
   "execution_count": null,
   "id": "82b14e8e",
   "metadata": {
    "vscode": {
     "languageId": "plaintext"
    }
   },
   "outputs": [],
   "source": [
    "# Feature distributions by class\n",
    "fig, axes = plt.subplots(2, 3, figsize=(15, 10))\n",
    "axes = axes.ravel()\n",
    "\n",
    "for i, col in enumerate(feature_cols):\n",
    "   suitable = train_df[train_df['suitable_for_kangaroo_care'] == True][col]\n",
    "   not_suitable = train_df[train_df['suitable_for_kangaroo_care'] == False][col]\n",
    "   \n",
    "   axes[i].hist(suitable, bins=30, alpha=0.5, label='Suitable', density=True)\n",
    "   axes[i].hist(not_suitable, bins=30, alpha=0.5, label='Not Suitable', density=True)\n",
    "   axes[i].set_title(f'{col} by Suitability')\n",
    "   axes[i].set_xlabel(col)\n",
    "   axes[i].set_ylabel('Density')\n",
    "   axes[i].legend()\n",
    "\n",
    "plt.tight_layout()\n",
    "plt.show()"
   ]
  },
  {
   "cell_type": "code",
   "execution_count": null,
   "id": "06c24cd3",
   "metadata": {
    "vscode": {
     "languageId": "plaintext"
    }
   },
   "outputs": [],
   "source": [
    "# Correlation matrix\n",
    "plt.figure(figsize=(10, 8))\n",
    "corr_matrix = train_df[feature_cols].corr()\n",
    "sns.heatmap(corr_matrix, annot=True, cmap='coolwarm', center=0, \n",
    "           square=True, linewidths=1, cbar_kws={\"shrink\": 0.8})\n",
    "plt.title('Feature Correlation Matrix')\n",
    "plt.show()"
   ]
  },
  {
   "cell_type": "code",
   "execution_count": null,
   "id": "61b47e74",
   "metadata": {
    "vscode": {
     "languageId": "plaintext"
    }
   },
   "outputs": [],
   "source": [
    "# Pairplot for feature relationships\n",
    "sample_df = train_df.sample(n=500, random_state=42)  # Sample for performance\n",
    "sns.pairplot(sample_df[feature_cols + ['suitable_for_kangaroo_care']], \n",
    "            hue='suitable_for_kangaroo_care', \n",
    "            diag_kind='kde',\n",
    "            plot_kws={'alpha': 0.6})\n",
    "plt.suptitle('Feature Relationships by Suitability', y=1.02)\n",
    "plt.show()"
   ]
  },
  {
   "cell_type": "code",
   "execution_count": null,
   "id": "86166744",
   "metadata": {
    "vscode": {
     "languageId": "plaintext"
    }
   },
   "outputs": [],
   "source": [
    "# Box plots for each feature by suitability\n",
    "fig, axes = plt.subplots(2, 3, figsize=(15, 10))\n",
    "axes = axes.ravel()\n",
    "\n",
    "for i, col in enumerate(feature_cols):\n",
    "   train_df.boxplot(column=col, by='suitable_for_kangaroo_care', ax=axes[i])\n",
    "   axes[i].set_title(f'{col} by Suitability')\n",
    "   axes[i].set_xlabel('Suitable for Kangaroo Care')\n",
    "   axes[i].set_ylabel(col)\n",
    "\n",
    "plt.suptitle('')  # Remove automatic suptitle\n",
    "plt.tight_layout()\n",
    "plt.show()"
   ]
  },
  {
   "cell_type": "code",
   "execution_count": null,
   "id": "efd3903e",
   "metadata": {
    "vscode": {
     "languageId": "plaintext"
    }
   },
   "outputs": [],
   "source": [
    "# Feature importance based on mean differences\n",
    "feature_importance = {}\n",
    "\n",
    "for col in feature_cols:\n",
    "   suitable_mean = train_df[train_df['suitable_for_kangaroo_care'] == True][col].mean()\n",
    "   not_suitable_mean = train_df[train_df['suitable_for_kangaroo_care'] == False][col].mean()\n",
    "   \n",
    "   # Normalize by feature scale\n",
    "   feature_std = train_df[col].std()\n",
    "   importance = abs(suitable_mean - not_suitable_mean) / feature_std\n",
    "   feature_importance[col] = importance\n",
    "\n",
    "# Plot feature importance\n",
    "plt.figure(figsize=(10, 6))\n",
    "features = list(feature_importance.keys())\n",
    "importances = list(feature_importance.values())\n",
    "plt.bar(features, importances)\n",
    "plt.title('Feature Importance (Normalized Mean Difference)')\n",
    "plt.xlabel('Features')\n",
    "plt.ylabel('Importance Score')\n",
    "plt.xticks(rotation=45)\n",
    "plt.tight_layout()\n",
    "plt.show()"
   ]
  },
  {
   "cell_type": "code",
   "execution_count": null,
   "id": "d804eff6",
   "metadata": {
    "vscode": {
     "languageId": "plaintext"
    }
   },
   "outputs": [],
   "source": [
    "# Statistical tests for feature differences\n",
    "from scipy import stats\n",
    "\n",
    "print(\"Statistical significance of features (t-test):\")\n",
    "print(\"-\" * 50)\n",
    "\n",
    "for col in feature_cols:\n",
    "   suitable = train_df[train_df['suitable_for_kangaroo_care'] == True][col]\n",
    "   not_suitable = train_df[train_df['suitable_for_kangaroo_care'] == False][col]\n",
    "   \n",
    "   t_stat, p_value = stats.ttest_ind(suitable, not_suitable)\n",
    "   print(f\"{col:20s}: t={t_stat:7.3f}, p={p_value:.3e}\")"
   ]
  },
  {
   "cell_type": "code",
   "execution_count": null,
   "id": "30e5eb4b",
   "metadata": {
    "vscode": {
     "languageId": "plaintext"
    }
   },
   "outputs": [],
   "source": [
    "# Identify edge cases and outliers\n",
    "print(\"\\nEdge cases analysis:\")\n",
    "print(\"-\" * 50)\n",
    "\n",
    "# Define edge case conditions\n",
    "edge_cases = train_df[\n",
    "   ((train_df['heart_rate'] < 60) | (train_df['heart_rate'] > 180)) |\n",
    "   ((train_df['oxygen_saturation'] < 85)) |\n",
    "   ((train_df['respiratory_rate'] < 25) | (train_df['respiratory_rate'] > 70)) |\n",
    "   ((train_df['weight_grams'] < 1000)) |\n",
    "   ((train_df['temperature_celsius'] < 35.5) | (train_df['temperature_celsius'] > 38.0))\n",
    "]\n",
    "\n",
    "print(f\"Total edge cases: {len(edge_cases)} ({len(edge_cases)/len(train_df)*100:.1f}%)\")\n",
    "print(f\"Edge cases suitable: {edge_cases['suitable_for_kangaroo_care'].sum()} ({edge_cases['suitable_for_kangaroo_care'].mean()*100:.1f}%)\")\n",
    "print(f\"Normal cases suitable: {train_df[~train_df.index.isin(edge_cases.index)]['suitable_for_kangaroo_care'].mean()*100:.1f}%\")"
   ]
  }
 ],
 "metadata": {
  "language_info": {
   "name": "python"
  }
 },
 "nbformat": 4,
 "nbformat_minor": 5
}
